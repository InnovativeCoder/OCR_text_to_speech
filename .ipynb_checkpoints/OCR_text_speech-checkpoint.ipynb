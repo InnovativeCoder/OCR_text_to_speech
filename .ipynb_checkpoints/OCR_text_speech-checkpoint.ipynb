{
 "cells": [
  {
   "cell_type": "code",
   "execution_count": 1,
   "metadata": {
    "collapsed": true
   },
   "outputs": [],
   "source": [
    "import cv2\n",
    "import numpy as np\n",
    "import pytesseract\n",
    "from PIL import Image"
   ]
  },
  {
   "cell_type": "code",
   "execution_count": 2,
   "metadata": {
    "collapsed": true
   },
   "outputs": [],
   "source": [
    "im = Image.open(\"sample.jpg\")"
   ]
  },
  {
   "cell_type": "code",
   "execution_count": 3,
   "metadata": {},
   "outputs": [
    {
     "name": "stdout",
     "output_type": "stream",
     "text": [
      "Let‘s get some\n",
      "\n",
      "muemmg arm word-spacvng\n",
      "gamg on.\n",
      "And how abou| some\n",
      "\\ener-spacmg, Mne-\n",
      "ne‘ghn and jushlled\n",
      "|exLa‘igmenx’I\n"
     ]
    }
   ],
   "source": [
    "text = pytesseract.image_to_string(im, lang ='eng')\n",
    "print(text)"
   ]
  },
  {
   "cell_type": "code",
   "execution_count": 4,
   "metadata": {
    "collapsed": true
   },
   "outputs": [],
   "source": [
    "im2 = Image.open(\"test-english-shht.jpg\")"
   ]
  },
  {
   "cell_type": "code",
   "execution_count": 5,
   "metadata": {
    "scrolled": false
   },
   "outputs": [
    {
     "name": "stdout",
     "output_type": "stream",
     "text": [
      "X74 5\n",
      "\n",
      "PREFACE.\n",
      "\n",
      "IN giving to the public this volume, it has been the\n",
      "design to present the operations of the Bureau of the Nation-\n",
      "al Detective Police during the wax, so fu- us it is proper to\n",
      "make them known to the people. It is not a book of roman-\n",
      "ﬁc adventures, but a narrative of rum in the secret history\n",
      "of the conﬂict, and mainly an exposure of the manifold and\n",
      "gigantic frauds and crimes of both the openly disloynl and\n",
      "the professed friends of the Repnbﬁc. Many reports are\n",
      "introduced, some of which are lengthy, and porﬁons of them\n",
      "Are dry, because they are the ofﬁcial remrds of the work\n",
      "done, and the veriﬁcation of the statements made, and the\n",
      "highest vindication 01’ the character And importance of the\n",
      "secret service. Passages occur in them, the propriety of\n",
      "which many readers may question, but their omission would\n",
      "have weakened the strength of the reports, and softened\n",
      "down the enormity of the offenses charged upon certain\n",
      "individuals. The whole volume might have been' made up\n",
      "of chapters very similar to those of the ﬁrst hundred pages\n",
      "\n",
      "ASSHT from a scan\n"
     ]
    }
   ],
   "source": [
    "text = pytesseract.image_to_string(im2, lang ='eng')\n",
    "print(text)"
   ]
  },
  {
   "cell_type": "code",
   "execution_count": 6,
   "metadata": {},
   "outputs": [
    {
     "data": {
      "text/plain": [
       "32512"
      ]
     },
     "execution_count": 6,
     "metadata": {},
     "output_type": "execute_result"
    }
   ],
   "source": [
    "from gtts import gTTS\n",
    "import os\n",
    "tts = gTTS(text, lang='en')\n",
    "tts.save(\"text.mp3\")\n",
    "os.system(\"mpg321 good.mp3\")"
   ]
  },
  {
   "cell_type": "code",
   "execution_count": 7,
   "metadata": {},
   "outputs": [
    {
     "data": {
      "text/plain": [
       "512"
      ]
     },
     "execution_count": 7,
     "metadata": {},
     "output_type": "execute_result"
    }
   ],
   "source": [
    "from os import system\n",
    "system('say hello world')\n",
    "system('say -v Alex {}'.format(text))"
   ]
  },
  {
   "cell_type": "code",
   "execution_count": null,
   "metadata": {
    "collapsed": true
   },
   "outputs": [],
   "source": []
  },
  {
   "cell_type": "code",
   "execution_count": null,
   "metadata": {
    "collapsed": true
   },
   "outputs": [],
   "source": []
  },
  {
   "cell_type": "code",
   "execution_count": null,
   "metadata": {
    "collapsed": true
   },
   "outputs": [],
   "source": []
  },
  {
   "cell_type": "code",
   "execution_count": null,
   "metadata": {
    "collapsed": true
   },
   "outputs": [],
   "source": []
  }
 ],
 "metadata": {
  "kernelspec": {
   "display_name": "Python 3",
   "language": "python",
   "name": "python3"
  },
  "language_info": {
   "codemirror_mode": {
    "name": "ipython",
    "version": 3
   },
   "file_extension": ".py",
   "mimetype": "text/x-python",
   "name": "python",
   "nbconvert_exporter": "python",
   "pygments_lexer": "ipython3",
   "version": "3.6.1"
  }
 },
 "nbformat": 4,
 "nbformat_minor": 2
}
